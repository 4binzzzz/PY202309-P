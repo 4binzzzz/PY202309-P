{
 "cells": [
  {
   "cell_type": "code",
   "execution_count": 10,
   "id": "26757719",
   "metadata": {},
   "outputs": [
    {
     "name": "stdout",
     "output_type": "stream",
     "text": [
      "파일의 실제 인코딩: Windows-1254, 신뢰도: 0.5708161431890952\n"
     ]
    }
   ],
   "source": [
    "import chardet\n",
    "\n",
    "# 파일 경로\n",
    "file_path = 'data/perfume_data.csv'\n",
    "\n",
    "# 파일의 실제 인코딩 확인\n",
    "with open(file_path, 'rb') as file:\n",
    "    result = chardet.detect(file.read())\n",
    "\n",
    "# 확인된 인코딩 출력\n",
    "print(f\"파일의 실제 인코딩: {result['encoding']}, 신뢰도: {result['confidence']}\")\n",
    "\n",
    "# 파일을 확인된 인코딩(Windows-1254)으로 읽어오기\n",
    "with open(file_path, 'r', encoding=result['encoding'], errors='replace') as file:\n",
    "    content = file.read()\n",
    "\n",
    "# 새로운 파일이 저장될 경로 (UTF-8로 저장할 파일)\n",
    "new_file_path = 'data/perfume_data_new.csv'\n",
    "\n",
    "\n",
    "# 파일 내용을 'UTF-8'로 인코딩하여 저장\n",
    "with open(new_file_path, 'w', encoding='utf-8') as file:\n",
    "    file.write(content)\n"
   ]
  },
  {
   "cell_type": "code",
   "execution_count": null,
   "id": "99fa0203",
   "metadata": {},
   "outputs": [],
   "source": []
  }
 ],
 "metadata": {
  "kernelspec": {
   "display_name": "Python 3 (ipykernel)",
   "language": "python",
   "name": "python3"
  },
  "language_info": {
   "codemirror_mode": {
    "name": "ipython",
    "version": 3
   },
   "file_extension": ".py",
   "mimetype": "text/x-python",
   "name": "python",
   "nbconvert_exporter": "python",
   "pygments_lexer": "ipython3",
   "version": "3.11.4"
  }
 },
 "nbformat": 4,
 "nbformat_minor": 5
}
